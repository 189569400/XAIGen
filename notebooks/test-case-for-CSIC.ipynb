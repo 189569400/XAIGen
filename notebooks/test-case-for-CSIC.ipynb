{
 "cells": [
  {
   "cell_type": "markdown",
   "metadata": {},
   "source": [
    "### Jupyter Settings"
   ]
  },
  {
   "cell_type": "code",
   "execution_count": null,
   "metadata": {},
   "outputs": [],
   "source": [
    "import warnings\n",
    "warnings.simplefilter(action='ignore', category=FutureWarning)"
   ]
  },
  {
   "cell_type": "code",
   "execution_count": null,
   "metadata": {},
   "outputs": [],
   "source": [
    "%load_ext autoreload\n",
    "%autoreload 2"
   ]
  },
  {
   "cell_type": "markdown",
   "metadata": {},
   "source": [
    "#### Read data"
   ]
  },
  {
   "cell_type": "code",
   "execution_count": null,
   "metadata": {},
   "outputs": [],
   "source": [
    "import pandas as pd\n",
    "DATASET = '../data/CSIC/csic-for-extractor.csv'\n",
    "df = pd.read_csv(DATASET, sep=',', dtype={'text':str, 'type':str}, low_memory=False)\n",
    "df.loc[df.type != '99999', 'type'] = 'malicious'\n",
    "df.loc[df.type == '99999', 'type'] = 'normal'\n",
    "df.rename(columns={\"type\": \"target\"},inplace=True)"
   ]
  },
  {
   "cell_type": "code",
   "execution_count": null,
   "metadata": {},
   "outputs": [],
   "source": [
    "df[df.target == 'malicious'].shape"
   ]
  },
  {
   "cell_type": "code",
   "execution_count": null,
   "metadata": {},
   "outputs": [],
   "source": [
    "df[df.target == 'normal'].shape"
   ]
  },
  {
   "cell_type": "code",
   "execution_count": null,
   "metadata": {},
   "outputs": [],
   "source": [
    "df.head(10)"
   ]
  },
  {
   "cell_type": "code",
   "execution_count": null,
   "metadata": {},
   "outputs": [],
   "source": [
    "import sys\n",
    "sys.path.append(\"..\")"
   ]
  },
  {
   "cell_type": "markdown",
   "metadata": {},
   "source": [
    "#### Train model"
   ]
  },
  {
   "cell_type": "code",
   "execution_count": null,
   "metadata": {
    "scrolled": true
   },
   "outputs": [],
   "source": [
    "import lime\n",
    "from tpe_model import text_preprocess\n",
    "from tpe_model import text_model_generator\n",
    "df, label_map = text_preprocess(df)\n",
    "print(label_map)\n",
    "tmg = text_model_generator(df)\n",
    "model = tmg.model_trainer()"
   ]
  },
  {
   "cell_type": "code",
   "execution_count": null,
   "metadata": {},
   "outputs": [],
   "source": []
  },
  {
   "cell_type": "markdown",
   "metadata": {},
   "source": [
    "#### Explain single sample"
   ]
  },
  {
   "cell_type": "code",
   "execution_count": null,
   "metadata": {},
   "outputs": [],
   "source": [
    "from tpe_core import get_instance_explained\n",
    "from lime.lime_text import LimeTextExplainer\n",
    "\n",
    "# Warning The pickle module is not secure. Only unpickle data you trust.Reference: https://docs.python.org/3/library/pickle.html\n",
    "# import pickle\n",
    "# with open(\"model.test\", 'rb') as f:\n",
    "#     model = pickle.load(f, encoding='bytes')\n",
    "\n",
    "labels = list(label_map.values())\n",
    "get_instance_explained(df, 30633, model, label_map, 'malicious')"
   ]
  },
  {
   "cell_type": "code",
   "execution_count": null,
   "metadata": {},
   "outputs": [],
   "source": [
    "get_instance_explained(df, 0, model, label_map, 'normal')"
   ]
  },
  {
   "cell_type": "markdown",
   "metadata": {},
   "source": [
    "#### Generate signature rules in batch and verification"
   ]
  },
  {
   "cell_type": "code",
   "execution_count": null,
   "metadata": {
    "scrolled": false
   },
   "outputs": [],
   "source": [
    "from tpe_rule_validation import rule_matching_evaluation\n",
    "match_result, rules_tobe_validate, matched_rules = rule_matching_evaluation(df\n",
    "                         , seed_num=2000\n",
    "                         , rein_num=2000\n",
    "                         , eval_num=1000\n",
    "                         , model=model\n",
    "                         , label_map=label_map\n",
    "                         , refer_label='malicious'\n",
    "                         , lime_flag = True\n",
    "                         , scan_flag=True\n",
    "                         , content_direction='backward'\n",
    "                         , xcol_name='text'\n",
    "                         , n_cores=20)"
   ]
  },
  {
   "cell_type": "code",
   "execution_count": null,
   "metadata": {},
   "outputs": [],
   "source": [
    "# show a case\n",
    "print('A match case...')\n",
    "rule_index = 1\n",
    "rule_num = matched_rules.iloc[[rule_index]].index[0]\n",
    "print('rule_num is %d' % rule_num)\n",
    "print(matched_rules.loc[[rule_num]]['rule_strings'])\n",
    "print('----------------------------------------------------------------------')\n",
    "\n",
    "pd.options.display.max_colwidth = 1000\n",
    "print(match_result.loc[match_result.rule_num == rule_num]['text'])\n",
    "print('Total matched number %d' % match_result.loc[match_result.rule_num == rule_num].shape[0])"
   ]
  },
  {
   "cell_type": "code",
   "execution_count": null,
   "metadata": {},
   "outputs": [],
   "source": [
    "matched_rules.shape[0]"
   ]
  },
  {
   "cell_type": "code",
   "execution_count": null,
   "metadata": {},
   "outputs": [],
   "source": []
  },
  {
   "cell_type": "code",
   "execution_count": null,
   "metadata": {},
   "outputs": [],
   "source": []
  },
  {
   "cell_type": "code",
   "execution_count": null,
   "metadata": {},
   "outputs": [],
   "source": []
  },
  {
   "cell_type": "markdown",
   "metadata": {},
   "source": [
    "### Backups"
   ]
  },
  {
   "cell_type": "markdown",
   "metadata": {},
   "source": [
    "#### Generate lime rules in batch"
   ]
  },
  {
   "cell_type": "code",
   "execution_count": null,
   "metadata": {},
   "outputs": [],
   "source": [
    "df_malicious = df[df['target'] == label_map['malicious']].sample(1000, random_state=1)\n",
    "df_malicious\n",
    "\n",
    "from tpe_core import get_rules\n",
    "rules_seed = get_rules(df_malicious, model, label_map, 'malicious', scan_flag=False)"
   ]
  },
  {
   "cell_type": "code",
   "execution_count": null,
   "metadata": {},
   "outputs": [],
   "source": [
    "rules_seed"
   ]
  },
  {
   "cell_type": "code",
   "execution_count": null,
   "metadata": {},
   "outputs": [],
   "source": []
  },
  {
   "cell_type": "code",
   "execution_count": null,
   "metadata": {},
   "outputs": [],
   "source": []
  }
 ],
 "metadata": {
  "kernelspec": {
   "display_name": "Python 3",
   "language": "python",
   "name": "python3"
  },
  "language_info": {
   "codemirror_mode": {
    "name": "ipython",
    "version": 3
   },
   "file_extension": ".py",
   "mimetype": "text/x-python",
   "name": "python",
   "nbconvert_exporter": "python",
   "pygments_lexer": "ipython3",
   "version": "3.6.9"
  }
 },
 "nbformat": 4,
 "nbformat_minor": 4
}
