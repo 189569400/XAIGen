{
 "cells": [
  {
   "cell_type": "markdown",
   "metadata": {},
   "source": [
    "### jupyter Settings"
   ]
  },
  {
   "cell_type": "code",
   "execution_count": null,
   "metadata": {},
   "outputs": [],
   "source": [
    "import warnings\n",
    "warnings.simplefilter(action='ignore', category=FutureWarning)"
   ]
  },
  {
   "cell_type": "code",
   "execution_count": null,
   "metadata": {},
   "outputs": [],
   "source": [
    "%load_ext autoreload\n",
    "%autoreload 2"
   ]
  },
  {
   "cell_type": "markdown",
   "metadata": {},
   "source": [
    "#### Read Dataset"
   ]
  },
  {
   "cell_type": "code",
   "execution_count": null,
   "metadata": {},
   "outputs": [],
   "source": [
    "import pandas as pd\n",
    "\n",
    "data_files = ['../data/youtube-spam/Youtube01-Psy.csv','../data/youtube-spam/Youtube02-KatyPerry.csv','../data/youtube-spam/Youtube03-LMFAO.csv','../data/youtube-spam/Youtube04-Eminem.csv','../data/youtube-spam/Youtube05-Shakira.csv']\n",
    "train_data = []\n",
    "for file in data_files:\n",
    "    data = pd.read_csv(file)\n",
    "    train_data.append(data)\n",
    "train_data = pd.concat(train_data)\n",
    "def drop_fectures(features,data):\n",
    "    data.drop(features,axis=1,inplace=True)\n",
    "drop_fectures(['COMMENT_ID','AUTHOR','DATE'],train_data)\n",
    "train_data['processed_content'] = train_data['CONTENT']\n",
    "\n",
    "drop_fectures(['CONTENT'],train_data)"
   ]
  },
  {
   "cell_type": "code",
   "execution_count": null,
   "metadata": {},
   "outputs": [],
   "source": [
    "train_data[train_data.CLASS == 1].shape"
   ]
  },
  {
   "cell_type": "code",
   "execution_count": null,
   "metadata": {},
   "outputs": [],
   "source": [
    "train_data[train_data.CLASS == 0].shape"
   ]
  },
  {
   "cell_type": "code",
   "execution_count": null,
   "metadata": {},
   "outputs": [],
   "source": [
    "train_data.shape"
   ]
  },
  {
   "cell_type": "code",
   "execution_count": null,
   "metadata": {},
   "outputs": [],
   "source": [
    "train_data"
   ]
  },
  {
   "cell_type": "code",
   "execution_count": null,
   "metadata": {},
   "outputs": [],
   "source": [
    "df = train_data\n",
    "df.loc[df.CLASS == 1, 'CLASS'] = 'malicious'\n",
    "df.loc[df.CLASS == 0, 'CLASS'] = 'normal'\n",
    "df.rename(columns={\"CLASS\": \"target\",'processed_content':'text' },inplace=True)"
   ]
  },
  {
   "cell_type": "code",
   "execution_count": null,
   "metadata": {},
   "outputs": [],
   "source": [
    "df"
   ]
  },
  {
   "cell_type": "code",
   "execution_count": null,
   "metadata": {},
   "outputs": [],
   "source": [
    "df.index"
   ]
  },
  {
   "cell_type": "markdown",
   "metadata": {},
   "source": [
    "#### Train model"
   ]
  },
  {
   "cell_type": "code",
   "execution_count": null,
   "metadata": {},
   "outputs": [],
   "source": [
    "import sys\n",
    "sys.path.append(\"..\")"
   ]
  },
  {
   "cell_type": "code",
   "execution_count": null,
   "metadata": {},
   "outputs": [],
   "source": [
    "from tpe_model import text_preprocess\n",
    "from tpe_model import text_model_generator\n",
    "df, label_map = text_preprocess(df)\n",
    "print(label_map)\n",
    "tmg = text_model_generator(df)\n",
    "model = tmg.model_trainer()"
   ]
  },
  {
   "cell_type": "markdown",
   "metadata": {},
   "source": [
    "#### Explain single sample"
   ]
  },
  {
   "cell_type": "code",
   "execution_count": null,
   "metadata": {},
   "outputs": [],
   "source": [
    "from tpe_core import get_instance_explained\n",
    "from lime.lime_text import LimeTextExplainer\n",
    "\n",
    "labels = list(label_map.values())\n",
    "get_instance_explained(df, 1, model, label_map, 'malicious')"
   ]
  },
  {
   "cell_type": "code",
   "execution_count": null,
   "metadata": {},
   "outputs": [],
   "source": [
    "get_instance_explained(df, 0, model, label_map, 'normal')"
   ]
  },
  {
   "cell_type": "markdown",
   "metadata": {},
   "source": [
    "#### Generate signature rules in batch and verification"
   ]
  },
  {
   "cell_type": "code",
   "execution_count": null,
   "metadata": {
    "scrolled": false
   },
   "outputs": [],
   "source": [
    "from tpe_rule_validation import rule_matching_evaluation\n",
    "match_result, rules_tobe_validate, matched_rules = rule_matching_evaluation(df\n",
    "                         , seed_num=1000\n",
    "                         , rein_num=500\n",
    "                         , eval_num=1500\n",
    "                         , model=model\n",
    "                         , label_map=label_map\n",
    "                         , refer_label='malicious'\n",
    "                         , lime_flag = True\n",
    "                         , scan_flag=True\n",
    "                         , content_direction='backward'\n",
    "                         , xcol_name='text'\n",
    "                         , n_cores=10)"
   ]
  },
  {
   "cell_type": "code",
   "execution_count": null,
   "metadata": {},
   "outputs": [],
   "source": []
  },
  {
   "cell_type": "code",
   "execution_count": null,
   "metadata": {},
   "outputs": [],
   "source": []
  },
  {
   "cell_type": "code",
   "execution_count": null,
   "metadata": {
    "scrolled": false
   },
   "outputs": [],
   "source": [
    "# show a case\n",
    "print('A match case...')\n",
    "rule_index = 1\n",
    "rule_num = matched_rules.iloc[[rule_index]].index[0]\n",
    "rule_num = 49\n",
    "print('rule_num is %d' % rule_num)\n",
    "print(matched_rules.loc[[rule_num]]['rule_strings'])\n",
    "print('----------------------------------------------------------------------')\n",
    "\n",
    "pd.options.display.max_colwidth = 1000\n",
    "print(match_result.loc[match_result.rule_num == rule_num]['text'])\n",
    "print('Total matched number %d' % match_result.loc[match_result.rule_num == rule_num].shape[0])"
   ]
  },
  {
   "cell_type": "code",
   "execution_count": null,
   "metadata": {},
   "outputs": [],
   "source": [
    "matched_rules.shape[0]"
   ]
  },
  {
   "cell_type": "code",
   "execution_count": null,
   "metadata": {},
   "outputs": [],
   "source": []
  },
  {
   "cell_type": "code",
   "execution_count": null,
   "metadata": {},
   "outputs": [],
   "source": []
  },
  {
   "cell_type": "code",
   "execution_count": null,
   "metadata": {},
   "outputs": [],
   "source": []
  },
  {
   "cell_type": "code",
   "execution_count": null,
   "metadata": {},
   "outputs": [],
   "source": []
  },
  {
   "cell_type": "code",
   "execution_count": null,
   "metadata": {},
   "outputs": [],
   "source": []
  }
 ],
 "metadata": {
  "kernelspec": {
   "display_name": "Python 3",
   "language": "python",
   "name": "python3"
  },
  "language_info": {
   "codemirror_mode": {
    "name": "ipython",
    "version": 3
   },
   "file_extension": ".py",
   "mimetype": "text/x-python",
   "name": "python",
   "nbconvert_exporter": "python",
   "pygments_lexer": "ipython3",
   "version": "3.6.9"
  }
 },
 "nbformat": 4,
 "nbformat_minor": 4
}
